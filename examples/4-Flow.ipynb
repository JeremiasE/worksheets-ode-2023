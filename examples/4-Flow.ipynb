{
 "cells": [
  {
   "cell_type": "code",
   "execution_count": 1,
   "id": "dc0b4637-599b-4701-bc61-2b5edd49fc3e",
   "metadata": {
    "tags": []
   },
   "outputs": [],
   "source": [
    "from ipywidgets import interact, fixed\n",
    "from ipywidgets import Dropdown"
   ]
  },
  {
   "cell_type": "code",
   "execution_count": 2,
   "id": "11d6d179-ce84-4757-b2fe-f8be062acde1",
   "metadata": {},
   "outputs": [],
   "source": [
    "import vector_fields\n",
    "import sympy"
   ]
  },
  {
   "cell_type": "code",
   "execution_count": 3,
   "id": "70b48fe6-368f-41be-81d4-aa09ca5df0e3",
   "metadata": {
    "tags": []
   },
   "outputs": [],
   "source": [
    "(t,x,y) = sympy.var(\"t,x,y\")"
   ]
  },
  {
   "cell_type": "markdown",
   "id": "ae92af27-bc57-4867-9e3c-6ef4628996b8",
   "metadata": {
    "tags": []
   },
   "source": [
    "# Einige schöne Lösungsflüsse autonomer Differentialgleichungen"
   ]
  },
  {
   "cell_type": "code",
   "execution_count": 5,
   "id": "a34296fc-3da9-4912-8177-6e8c38a7888c",
   "metadata": {
    "tags": []
   },
   "outputs": [
    {
     "data": {
      "application/vnd.jupyter.widget-view+json": {
       "model_id": "0b473487c0c6416da061e66c1452bbe0",
       "version_major": 2,
       "version_minor": 0
      },
      "text/plain": [
       "interactive(children=(Dropdown(description='f', options=(('(x*(1 - y), y*(2*x - 3))', (x*(1 - y), y*(2*x - 3))), ('(x, y)', (x, y)), ('(-x, y)', (-x, y)), ('(sin(x), cos(y))', (sin(x), cos(y))), ('(x*y + x - 2*y, x - y)', (x*y + x - 2*y, x - y)), ('(x + y, sin(y))', (x + y, sin(y)))), value=(x*(1 - y), y*(2*x - 3))), Output()), _dom_classes=('widget-interact',))"
      ]
     },
     "metadata": {},
     "output_type": "display_data"
    },
    {
     "data": {
      "text/plain": [
       "<function field_player at 0x7f864702cca0>"
      ]
     },
     "execution_count": 5,
     "metadata": {},
     "output_type": "execute_result"
    }
   ],
   "source": [
    "functions = [\n",
    "    (x*(1-y),y*(2*x-3)),\n",
    "    (x,y),\n",
    "    (-x,y),\n",
    "    (sin(x),cos(y)),\n",
    "    (x*y+x-y*2,x-y),\n",
    "    (x+y,sin(y)),\n",
    "]\n",
    "interact(vector_fields.field_player,f =Dropdown(options=[(str(i), i) for i in functions]), width=fixed(1300), height=fixed(700))"
   ]
  },
  {
   "cell_type": "code",
   "execution_count": null,
   "id": "cc1a4032-04e2-4b85-96c6-15dbe4e585b9",
   "metadata": {},
   "outputs": [],
   "source": []
  }
 ],
 "metadata": {
  "kernelspec": {
   "display_name": "SageMath 9.8",
   "language": "sage",
   "name": "sagemath"
  },
  "language_info": {
   "codemirror_mode": {
    "name": "ipython",
    "version": 3
   },
   "file_extension": ".py",
   "mimetype": "text/x-python",
   "name": "python",
   "nbconvert_exporter": "python",
   "pygments_lexer": "ipython3",
   "version": "3.10.10"
  }
 },
 "nbformat": 4,
 "nbformat_minor": 5
}
