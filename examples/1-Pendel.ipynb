{
 "cells": [
  {
   "cell_type": "code",
   "execution_count": 1,
   "metadata": {
    "tags": []
   },
   "outputs": [
    {
     "name": "stdout",
     "output_type": "stream",
     "text": [
      "--2023-04-17 17:33:28--  https://raw.githubusercontent.com/JeremiasE/worksheets-ode-2023/main/tools/vector_fields.py\n",
      "CA-Zertifikat »/etc/ssl/certs/ca-certificates.crt« wurde geladen\n",
      "Auflösen des Hostnamens raw.githubusercontent.com (raw.githubusercontent.com)… 2606:50c0:8000::154, 2606:50c0:8003::154, 2606:50c0:8002::154, ...\n",
      "Verbindungsaufbau zu raw.githubusercontent.com (raw.githubusercontent.com)|2606:50c0:8000::154|:443 … verbunden.\n",
      "HTTP-Anforderung gesendet, auf Antwort wird gewartet … 200 OK\n",
      "Länge: 5244 (5,1K) [text/plain]\n",
      "Wird in »vector_fields.py.5« gespeichert.\n",
      "\n",
      "vector_fields.py.5  100%[===================>]   5,12K  --.-KB/s    in 0,001s  \n",
      "\n",
      "2023-04-17 17:33:28 (7,92 MB/s) - »vector_fields.py.5« gespeichert [5244/5244]\n",
      "\n"
     ]
    }
   ],
   "source": [
    "# vector_fields.py contains a bunch of tools to visualize vector fields and related objects\n",
    "# this line is mainly needed to run the notebook in google colab or kaggle\n",
    "!wget https://raw.githubusercontent.com/JeremiasE/worksheets-ode-2023/main/tools/vector_fields.py"
   ]
  },
  {
   "cell_type": "code",
   "execution_count": null,
   "metadata": {
    "tags": []
   },
   "outputs": [],
   "source": [
    "import sympy\n",
    "from sympy import sin\n",
    "from sympy.utilities import lambdify\n",
    "\n",
    "import numpy as np\n",
    "import matplotlib.pyplot as plt\n",
    "from matplotlib import animation\n",
    "\n",
    "import ipywidgets as widgets\n",
    "from IPython.display import Video, YouTubeVideo\n",
    "\n",
    "import vector_fields \n"
   ]
  },
  {
   "cell_type": "markdown",
   "metadata": {
    "tags": []
   },
   "source": [
    "# Das mathematische Pendel"
   ]
  },
  {
   "cell_type": "code",
   "execution_count": null,
   "metadata": {
    "tags": []
   },
   "outputs": [],
   "source": [
    "(t,x,y) = sympy.var(\"t x y\")"
   ]
  },
  {
   "cell_type": "markdown",
   "metadata": {
    "tags": []
   },
   "source": [
    "Das mathematische Pendel lässt sich durch die Differentialgleichung zweiter Ordnung\n",
    "\n",
    "\\begin{align*}\\ddot x = -k\\sin(x)\\end{align*}\n",
    "\n",
    "beschreiben. Der Parameter $k$ ist dabei gegeben durch $k= \\frac{g}{\\ell}$, wobei $\\ell$ die Länge des Pendels und $g$\n",
    "die Fallbeschleunigung ist. Im Folgenden werden wir $k$ in der Regel auf $1$ setzen.\n",
    "\n",
    "Lösungen dieser Differentialgleichung sind Funktionen der Form $I \\to \\mathbb{R}$ für ein Intervall $I$. \n"
   ]
  },
  {
   "cell_type": "code",
   "execution_count": null,
   "metadata": {
    "tags": []
   },
   "outputs": [],
   "source": [
    "k = 1\n",
    "f = sympy.Matrix([y, -k*sin(x)])"
   ]
  },
  {
   "cell_type": "code",
   "execution_count": null,
   "metadata": {
    "tags": []
   },
   "outputs": [],
   "source": [
    "initial_value = (0.2,0)\n",
    "fig = vector_fields.plot_solution_pair(f,(x,y));\n",
    "fig.set_figwidth(10)\n",
    "fig.set_figheight(4)\n",
    "fig.axes[0].set_xlabel(\"$t$\")\n",
    "fig.axes[1].set_xlabel(\"$t$\")\n",
    "fig.axes[0].set_ylabel(\"$x$\")\n",
    "fig.axes[1].set_ylabel(\"$\\dot x$\")\n",
    "fig.tight_layout()\n",
    "plt.show()"
   ]
  },
  {
   "cell_type": "markdown",
   "metadata": {
    "tags": []
   },
   "source": [
    "## Differentialgleichungssystem und Vektorfeld"
   ]
  },
  {
   "cell_type": "markdown",
   "metadata": {
    "tags": []
   },
   "source": [
    "Setzen wir $y=\\dot x$, so erhalten wir\n",
    "das 2-dimensionale Differentialgleichungssystem\n",
    "\\begin{align*}\\dot x &= y,\\\\ \\dot y &= -k\\sin(x).\\end{align*}"
   ]
  },
  {
   "cell_type": "markdown",
   "metadata": {},
   "source": [
    "Die Abbildung $\\mathbb{R} \\mapsto \\mathbb{R},\\; \\begin{pmatrix}x \\\\ y\\end{pmatrix} \\mapsto \\begin{pmatrix} y \\\\ -k\\sin(x)\\end{pmatrix}$ definiert ein Vektorfeld."
   ]
  },
  {
   "cell_type": "code",
   "execution_count": null,
   "metadata": {
    "tags": []
   },
   "outputs": [],
   "source": [
    "ax = vector_fields.plot_vector_field(f,(x,-12,12),(y,-8,8))\n",
    "ax.set_xlabel(\"$x$\")\n",
    "ax.set_ylabel(\"$y$\")\n",
    "vector_fields.add_central_axis(ax)\n",
    "plt.show()"
   ]
  },
  {
   "cell_type": "markdown",
   "metadata": {
    "tags": []
   },
   "source": [
    "## Einige Lösungskurven"
   ]
  },
  {
   "cell_type": "markdown",
   "metadata": {},
   "source": [
    "Lösungen des obigen Differentialgleichungssystems sind Kurven im $\\mathbb{R}^2$, also Abbildungen der Form $I \\to \\mathbb{R}^2$ für ein Intervall $I$. Die folgende Abbildung zeigt die **Bilder** einiger dieser Kurven."
   ]
  },
  {
   "cell_type": "code",
   "execution_count": null,
   "metadata": {
    "tags": []
   },
   "outputs": [],
   "source": [
    "ax = vector_fields.plot_streamlines(f,(x,-12,12),(y,-8,8))\n",
    "ax.set_xlabel(\"$x$\")\n",
    "ax.set_ylabel(\"$y$\")\n",
    "vector_fields.add_central_axis(ax)\n",
    "plt.show()"
   ]
  },
  {
   "cell_type": "markdown",
   "metadata": {},
   "source": [
    "Die Lösungskurven sind tangential zum Vektorfeld."
   ]
  },
  {
   "cell_type": "code",
   "execution_count": null,
   "metadata": {
    "tags": []
   },
   "outputs": [],
   "source": [
    "ax = vector_fields.plot_vector_field(f/vector_fields.norm(f),(x,-12,12),(y,-8,8),color=\"black\")\n",
    "vector_fields.add_central_axis(ax)\n",
    "vector_fields.plot_streamlines(f,(x,-12,12),(y,-8,8),ax=ax,color=\"tab:grey\",linewidth=0.5)\n",
    "ax.set_xlabel(\"$x$\")\n",
    "ax.set_ylabel(\"$y$\")\n",
    "plt.show()"
   ]
  },
  {
   "cell_type": "markdown",
   "metadata": {
    "tags": []
   },
   "source": [
    "## Eine spezielle Lösung"
   ]
  },
  {
   "cell_type": "markdown",
   "metadata": {},
   "source": [
    "Wir bestimmen nun numerisch eine Lösung der Differentialgleichung für die $x(0)=2.2, y(0)=0$ gilt."
   ]
  },
  {
   "cell_type": "markdown",
   "metadata": {},
   "source": [
    "Das Bild der Lösungskurve stellen wir nun zusammen mit dem Vektorfeld dar."
   ]
  },
  {
   "cell_type": "code",
   "execution_count": null,
   "metadata": {
    "tags": []
   },
   "outputs": [],
   "source": [
    "def plot_solution(f, initial_value, t_1=12):\n",
    "    solution = vector_fields.solve_ivp(f,(x,y),(0,t_1),initial_value)\n",
    "    fig = plt.figure()\n",
    "    axis = fig.subplots(1,2)\n",
    "    vector_fields.plot_vector_field(f,(x,-12,12),(y,-8,8),ax=axis[0],color=\"black\")\n",
    "    vector_fields.plot_streamlines(f,(x,-12,12),(y,-8,8),ax=axis[0],color=\"lightgrey\",linewidth=0.5)\n",
    "    axis[0].plot(solution.y[0,:],solution.y[1,:],color=\"tab:red\")\n",
    "    axis[1].plot(solution.t,solution.y[0,:])\n",
    "    fig.set_figwidth(16)\n",
    "    fig.set_figheight(5)\n",
    "    return fig\n",
    "\n",
    "plot_solution(f, (2.2,0))\n",
    "plt.show()"
   ]
  },
  {
   "cell_type": "markdown",
   "metadata": {},
   "source": [
    "Wir können die Lösung auch animieren:"
   ]
  },
  {
   "cell_type": "code",
   "execution_count": null,
   "metadata": {
    "tags": []
   },
   "outputs": [],
   "source": [
    "fig = plt.figure()\n",
    "fig.set_dpi(100)\n",
    "#fig.set_size_inches(7, 6.5)\n",
    "t_1=30\n",
    "initial_value=(1.9,0)\n",
    "\n",
    "ax = plt.axes(xlim=(0, 10), ylim=(0, 10))\n",
    "patch = plt.Circle((5, -5), 0.2, color=\"tab:red\",zorder=10)\n",
    "solution = vector_fields.solve_ivp(f,(x,y),(0,t_1),initial_value)\n",
    "ax.set_aspect(\"equal\")\n",
    "def init():\n",
    "    vector_fields.plot_vector_field(f,(x,-12,12),(y,-8,8),ax=ax,color=\"black\")\n",
    "    vector_fields.plot_streamlines(f,(x,-12,12),(y,-8,8),ax=ax,color=\"lightgrey\",linewidth=0.5)\n",
    "    patch.center = (solution.y[0,0], solution.y[1,0])\n",
    "    ax.add_patch(patch)\n",
    "    return patch,\n",
    "\n",
    "def animate(i):\n",
    "    x, y = patch.center\n",
    "    x = 5 + 3 * np.sin(np.radians(i))\n",
    "    y = 5 + 3 * np.cos(np.radians(i))\n",
    "    patch.center = (solution.y[0,i], solution.y[1,i])\n",
    "    return patch,\n",
    "\n",
    "anim = animation.FuncAnimation(fig, animate, \n",
    "                               init_func=init, \n",
    "                               frames=300, \n",
    "                               interval=20,\n",
    "                               blit=True)\n",
    "\n",
    "plt.show()\n"
   ]
  },
  {
   "cell_type": "code",
   "execution_count": null,
   "metadata": {
    "tags": []
   },
   "outputs": [],
   "source": [
    "# Uncomment the next line to produce the animation, this takes some time \n",
    "# anim.save(\"animation.mp4\")\n",
    "# Video(\"animation.mp4\")"
   ]
  },
  {
   "cell_type": "markdown",
   "metadata": {
    "tags": []
   },
   "source": [
    "Wir können auch viele Lösungen parallel animieren (das läuft als Shader auf der GPU dank Fieldplay, https://anvaka.github.io/fieldplay/)"
   ]
  },
  {
   "cell_type": "code",
   "execution_count": null,
   "metadata": {},
   "outputs": [],
   "source": [
    "vector_fields.field_player(f)"
   ]
  },
  {
   "cell_type": "markdown",
   "metadata": {
    "tags": []
   },
   "source": [
    "## Linearisierung"
   ]
  },
  {
   "cell_type": "markdown",
   "metadata": {},
   "source": [
    "Die Taylorentwicklung von $\\sin(x)$ in $0$ ergibt sich wie folgt:"
   ]
  },
  {
   "cell_type": "code",
   "execution_count": null,
   "metadata": {
    "tags": []
   },
   "outputs": [],
   "source": [
    "sympy.series(sin(x),x,0,10)"
   ]
  },
  {
   "cell_type": "markdown",
   "metadata": {},
   "source": [
    "Für kleine Auslenkungen $x$ können wir unsere Differentialgleichung also approximieren durch $\\ddot x = -kx$,\n",
    "oder als System ausgedrückt, \n",
    "\\begin{align*}\\dot x &= y,\\\\ \\dot y &= -kx.\\end{align*}\n",
    "Dieses System nennt man auch den *harmonischen Oszillator*."
   ]
  },
  {
   "cell_type": "markdown",
   "metadata": {},
   "source": [
    "Für kleine Auslenkungen sind die Lösungen noch sehr ähnlich:"
   ]
  },
  {
   "cell_type": "code",
   "execution_count": null,
   "metadata": {
    "tags": []
   },
   "outputs": [],
   "source": [
    "g = sympy.Matrix([y,-k*x])"
   ]
  },
  {
   "cell_type": "code",
   "execution_count": null,
   "metadata": {
    "tags": []
   },
   "outputs": [],
   "source": [
    "def plot_solution_with_approximation(initial_value, approximation):\n",
    "    fig = plt.figure()\n",
    "    axis = fig.subplots(2,2)\n",
    "    solution = vector_fields.solve_ivp(f,(x,y),(0,14),initial_value)\n",
    "    linearized_solution = vector_fields.solve_ivp(approximation,(x,y),(0,14),initial_value)\n",
    "\n",
    "    vector_fields.plot_vector_field(f,(x,-6,6),(y,-4,4),ax=axis[0,0],color=\"black\")\n",
    "    vector_fields.plot_streamlines(f,(x,-6,6),(y,-4,4),ax=axis[0,0],color=\"lightgrey\",linewidth=0.5)\n",
    "    axis[0,0].plot(solution.y[0,:],solution.y[1,:],color=\"tab:red\")\n",
    "    axis[0,0].set_title(\"$\\ddot x = - \\sin(x)$\")\n",
    "    axis[0,1].plot(solution.t,solution.y[0,:])\n",
    "\n",
    "    vector_fields.plot_vector_field(approximation,(x,-6,6),(y,-4,4),ax=axis[1,0],color=\"black\")\n",
    "    vector_fields.plot_streamlines(approximation,(x,-6,6),(y,-4,4),ax=axis[1,0],color=\"lightgrey\",linewidth=0.5)\n",
    "    axis[1,0].plot(linearized_solution.y[0,:],linearized_solution.y[1,:],color=\"tab:red\")\n",
    "    axis[1,0].set_title(f\"$\\ddot x = {sympy.latex(approximation[1])}$\")\n",
    "    axis[1,1].plot(linearized_solution.t,linearized_solution.y[0,:])\n",
    "\n",
    "    fig.set_figwidth(12)\n",
    "    fig.set_figheight(8)\n",
    "    return fig\n",
    "\n",
    "plot_solution_with_approximation((1,0),g)\n",
    "plt.show()\n"
   ]
  },
  {
   "cell_type": "markdown",
   "metadata": {},
   "source": [
    "Für größere Auslenkungen sind die Lösungen deutlich verschieden:"
   ]
  },
  {
   "cell_type": "code",
   "execution_count": null,
   "metadata": {
    "tags": []
   },
   "outputs": [],
   "source": [
    "plot_solution_with_approximation((2.8,0),g)\n",
    "plt.show()\n"
   ]
  },
  {
   "cell_type": "markdown",
   "metadata": {
    "tags": []
   },
   "source": [
    "## Approximationen"
   ]
  },
  {
   "cell_type": "markdown",
   "metadata": {},
   "source": [
    "Nimmt man eine bessere Approximation der Sinusfunktion in $0$, dann ähneln sich die Lösungen auch für größere Auslenkungen."
   ]
  },
  {
   "cell_type": "code",
   "execution_count": null,
   "metadata": {
    "tags": []
   },
   "outputs": [],
   "source": [
    "sin_approx = sympy.series(sin(x),x,0,10).removeO()"
   ]
  },
  {
   "cell_type": "code",
   "execution_count": null,
   "metadata": {
    "tags": []
   },
   "outputs": [],
   "source": [
    "sin_approx"
   ]
  },
  {
   "cell_type": "code",
   "execution_count": null,
   "metadata": {
    "tags": []
   },
   "outputs": [],
   "source": [
    "h = sympy.Matrix([y,-k*sin_approx])"
   ]
  },
  {
   "cell_type": "code",
   "execution_count": null,
   "metadata": {
    "tags": []
   },
   "outputs": [],
   "source": [
    "plot_solution_with_approximation((2.8,0),h)\n",
    "plt.show()"
   ]
  },
  {
   "cell_type": "markdown",
   "metadata": {
    "tags": []
   },
   "source": [
    "## Reibung"
   ]
  },
  {
   "cell_type": "markdown",
   "metadata": {},
   "source": [
    "Eine Möglichkeit, die Reibung zu berücksichtigen, ist folgende Differentialgleichung:\n",
    "\\begin{align*}\\ddot x = -k\\sin(x)-c\\dot{x}.\\end{align*}."
   ]
  },
  {
   "cell_type": "code",
   "execution_count": null,
   "metadata": {
    "tags": []
   },
   "outputs": [],
   "source": [
    "k = 1\n",
    "c = 0.2\n",
    "f2 = sympy.Matrix([y,-k*sin(x) - c*y])\n",
    "plot_solution(f2,(2.2,0),30)\n",
    "plt.show()"
   ]
  },
  {
   "cell_type": "markdown",
   "metadata": {
    "tags": []
   },
   "source": [
    "## Periodische Anregung"
   ]
  },
  {
   "cell_type": "markdown",
   "metadata": {
    "tags": []
   },
   "source": [
    "Fügt man jetzt noch eine periodische Anregung hinzu, erhält man z.B. folgende nicht-autonome Differentialgleichung\n",
    "\n",
    "\\begin{align*}\\ddot x = -k\\sin(x)-c\\dot x+d \\sin(t).\\end{align*}\n",
    "\n",
    "deren Lösungen deutlich wilder aussehen können."
   ]
  },
  {
   "cell_type": "code",
   "execution_count": null,
   "metadata": {
    "tags": []
   },
   "outputs": [],
   "source": [
    "k = 1\n",
    "c = 0.2\n",
    "d = 6\n",
    "f3 = sympy.Matrix([y,-k*sin(x)-c*y+d*sin(t)])\n",
    "initial_value=(2.2,0)\n",
    "time = 100\n",
    "vector_fields.plot_solution_non_autonomous(f3,t,(x,y),initial_value,time)\n",
    "plt.show()"
   ]
  },
  {
   "cell_type": "code",
   "execution_count": null,
   "metadata": {},
   "outputs": [],
   "source": []
  }
 ],
 "metadata": {
  "kernelspec": {
   "display_name": "Python 3 (ipykernel)",
   "language": "python",
   "name": "python3"
  },
  "language_info": {
   "codemirror_mode": {
    "name": "ipython",
    "version": 3
   },
   "file_extension": ".py",
   "mimetype": "text/x-python",
   "name": "python",
   "nbconvert_exporter": "python",
   "pygments_lexer": "ipython3",
   "version": "3.10.10"
  }
 },
 "nbformat": 4,
 "nbformat_minor": 4
}
